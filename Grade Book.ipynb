{
 "cells": [
  {
   "cell_type": "code",
   "execution_count": null,
   "metadata": {},
   "outputs": [],
   "source": [
    "last_semester_gradebook = [[\"politics\", 80], [\"latin\", 96], [\"dance\", 97], [\"architecture\", 65]]\n",
    "\n",
    "# Your code below: \n",
    "\n",
    "subjects= [\"physics\", \"calculus\", \"poetry\", \"history\"]\n",
    "grades=[98, 97, 85, 88]\n",
    "\n",
    "gradebook=[[\"physics\",98], [\"calculus\",97], [\"poetry\",85], [\"history\",88]]\n",
    "\n",
    "print(gradebook)\n",
    "\n",
    "gradebook.append([\"computer science\",100])\n",
    "\n",
    "gradebook.append([\"visual arts\",93])\n",
    "\n",
    "print(gradebook)\n",
    "\n",
    "gradebook[-1][-1]=98\n",
    "print(gradebook)\n",
    "\n",
    "\n",
    "gradebook[2].remove(85)\n",
    "\n",
    "gradebook[2].append(\"Pass\")\n",
    "print(gradebook)\n",
    "\n",
    "full_gradebook= last_semester_gradebook +gradebook\n",
    "\n",
    "print(full_gradebook)"
   ]
  }
 ],
 "metadata": {
  "kernelspec": {
   "display_name": "Python 3",
   "language": "python",
   "name": "python3"
  },
  "language_info": {
   "codemirror_mode": {
    "name": "ipython",
    "version": 3
   },
   "file_extension": ".py",
   "mimetype": "text/x-python",
   "name": "python",
   "nbconvert_exporter": "python",
   "pygments_lexer": "ipython3",
   "version": "3.7.6"
  }
 },
 "nbformat": 4,
 "nbformat_minor": 4
}
